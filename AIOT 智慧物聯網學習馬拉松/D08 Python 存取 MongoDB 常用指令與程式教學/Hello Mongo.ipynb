{
 "cells": [
  {
   "cell_type": "code",
   "execution_count": 6,
   "metadata": {},
   "outputs": [],
   "source": [
    "from pymongo import MongoClient"
   ]
  },
  {
   "cell_type": "code",
   "execution_count": 7,
   "metadata": {},
   "outputs": [],
   "source": [
    "client = MongoClient(host='127.0.0.1', port=27017)"
   ]
  },
  {
   "cell_type": "code",
   "execution_count": 8,
   "metadata": {},
   "outputs": [],
   "source": [
    "db = client['test']"
   ]
  },
  {
   "cell_type": "code",
   "execution_count": 9,
   "metadata": {},
   "outputs": [],
   "source": [
    "collection = db['member']"
   ]
  },
  {
   "cell_type": "code",
   "execution_count": 10,
   "metadata": {},
   "outputs": [],
   "source": [
    "mydata = {'name': 'Kevin', 'phone': '0912345678', 'email':'test@gmail.com.tw'}"
   ]
  },
  {
   "cell_type": "code",
   "execution_count": 11,
   "metadata": {},
   "outputs": [],
   "source": [
    "#insert_one，一次增加一筆\n",
    "result = collection.insert_one(mydata)"
   ]
  },
  {
   "cell_type": "code",
   "execution_count": 12,
   "metadata": {},
   "outputs": [
    {
     "name": "stdout",
     "output_type": "stream",
     "text": [
      "5ff01eda68d19e156f4517ac\n"
     ]
    }
   ],
   "source": [
    "#inserted_id，一次印一筆\n",
    "print(result.inserted_id)"
   ]
  },
  {
   "cell_type": "code",
   "execution_count": 52,
   "metadata": {},
   "outputs": [],
   "source": [
    "mydata_list = [{'name': 'Kingdom', 'phone': '0987456321', 'email':'Kingdom@gmail.com.tw'},\n",
    "               {'name': 'Joe', 'phone': '0912365478', 'email':'Joe@gmail.com.tw'},\n",
    "               {'name': 'Thrump', 'phone': '0974125863', 'email':'Thrump@gmail.com.tw'}]"
   ]
  },
  {
   "cell_type": "code",
   "execution_count": 53,
   "metadata": {},
   "outputs": [],
   "source": [
    "#insert_many，一次增加多筆\n",
    "result = collection.insert_many(mydata_list)"
   ]
  },
  {
   "cell_type": "code",
   "execution_count": 16,
   "metadata": {},
   "outputs": [
    {
     "name": "stdout",
     "output_type": "stream",
     "text": [
      "[ObjectId('5ff020be68d19e156f4517ad'), ObjectId('5ff020be68d19e156f4517ae'), ObjectId('5ff020be68d19e156f4517af')]\n"
     ]
    }
   ],
   "source": [
    "#inserted_ids，一次印多筆\n",
    "print(result.inserted_ids)"
   ]
  },
  {
   "cell_type": "code",
   "execution_count": 19,
   "metadata": {},
   "outputs": [
    {
     "data": {
      "text/plain": [
       "4"
      ]
     },
     "execution_count": 19,
     "metadata": {},
     "output_type": "execute_result"
    }
   ],
   "source": [
    "#查看集合中有多少文檔\n",
    "collection.count_documents({})"
   ]
  },
  {
   "cell_type": "code",
   "execution_count": 24,
   "metadata": {},
   "outputs": [
    {
     "data": {
      "text/plain": [
       "<pymongo.results.DeleteResult at 0x1fa510ba5c8>"
      ]
     },
     "execution_count": 24,
     "metadata": {},
     "output_type": "execute_result"
    }
   ],
   "source": [
    "#刪除一個文檔\n",
    "collection.delete_one({})"
   ]
  },
  {
   "cell_type": "code",
   "execution_count": 41,
   "metadata": {},
   "outputs": [
    {
     "data": {
      "text/plain": [
       "5"
      ]
     },
     "execution_count": 41,
     "metadata": {},
     "output_type": "execute_result"
    }
   ],
   "source": [
    "collection.count_documents({})"
   ]
  },
  {
   "cell_type": "code",
   "execution_count": 37,
   "metadata": {},
   "outputs": [
    {
     "data": {
      "text/plain": [
       "<pymongo.results.DeleteResult at 0x1fa52af4f48>"
      ]
     },
     "execution_count": 37,
     "metadata": {},
     "output_type": "execute_result"
    }
   ],
   "source": [
    "#刪除指定的一個文檔\n",
    "collection.delete_one({'name': 'Thrump'})"
   ]
  },
  {
   "cell_type": "code",
   "execution_count": 42,
   "metadata": {},
   "outputs": [],
   "source": [
    "#delete_many，一次刪除多筆\n",
    "result = collection.delete_many({'name': 'Joe'})"
   ]
  },
  {
   "cell_type": "code",
   "execution_count": 44,
   "metadata": {},
   "outputs": [
    {
     "data": {
      "text/plain": [
       "2"
      ]
     },
     "execution_count": 44,
     "metadata": {},
     "output_type": "execute_result"
    }
   ],
   "source": [
    "#查詢剛剛刪了多少筆，後來新加資料，Joe有兩筆\n",
    "result.deleted_count"
   ]
  },
  {
   "cell_type": "code",
   "execution_count": 46,
   "metadata": {},
   "outputs": [],
   "source": [
    "result = collection.delete_many({'name': 'Joe'})"
   ]
  },
  {
   "cell_type": "code",
   "execution_count": 47,
   "metadata": {},
   "outputs": [
    {
     "data": {
      "text/plain": [
       "0"
      ]
     },
     "execution_count": 47,
     "metadata": {},
     "output_type": "execute_result"
    }
   ],
   "source": [
    "#在刪一遍，因為沒Joe，所以零筆\n",
    "result.deleted_count"
   ]
  },
  {
   "cell_type": "code",
   "execution_count": 48,
   "metadata": {},
   "outputs": [
    {
     "data": {
      "text/plain": [
       "<pymongo.results.UpdateResult at 0x1fa52aa6108>"
      ]
     },
     "execution_count": 48,
     "metadata": {},
     "output_type": "execute_result"
    }
   ],
   "source": [
    "#修改文檔\n",
    "#過濾條件\n",
    "filter_ = {'name': 'Kingdom'}\n",
    "#修改成的資料\n",
    "update_ = {'$set':{'name': 'Green'}}\n",
    "#update_one，只修改一個文檔，第一個參數是修改目標，第二個參數是修改資料，本來有兩個Kingdom但只修改index最前面的。\n",
    "collection.update_one(filter_, update_)"
   ]
  },
  {
   "cell_type": "code",
   "execution_count": 54,
   "metadata": {},
   "outputs": [
    {
     "data": {
      "text/plain": [
       "<pymongo.results.UpdateResult at 0x1fa50f74648>"
      ]
     },
     "execution_count": 54,
     "metadata": {},
     "output_type": "execute_result"
    }
   ],
   "source": [
    "#修改文檔\n",
    "#過濾條件\n",
    "filter_ = {'name': 'Joe'}\n",
    "#修改成的資料\n",
    "update_ = {'$set':{'name': 'Philips'}}\n",
    "#update_many，修改多個文檔，第一個參數是修改目標，第二個參數是修改資料。\n",
    "collection.update_many(filter_, update_)"
   ]
  },
  {
   "cell_type": "code",
   "execution_count": 55,
   "metadata": {},
   "outputs": [
    {
     "data": {
      "text/plain": [
       "{'_id': ObjectId('5ff020be68d19e156f4517ad'),\n",
       " 'name': 'Green',\n",
       " 'phone': '0987456321',\n",
       " 'email': 'Kingdom@gmail.com.tw'}"
      ]
     },
     "execution_count": 55,
     "metadata": {},
     "output_type": "execute_result"
    }
   ],
   "source": [
    "#find_one，找尋index最小的一筆資料\n",
    "result = collection.find_one({})\n",
    "result"
   ]
  },
  {
   "cell_type": "code",
   "execution_count": 58,
   "metadata": {},
   "outputs": [
    {
     "name": "stdout",
     "output_type": "stream",
     "text": [
      "{'_id': ObjectId('5ff020be68d19e156f4517ad'), 'name': 'Green', 'phone': '0987456321', 'email': 'Kingdom@gmail.com.tw'}\n",
      "{'_id': ObjectId('5ff0239868d19e156f4517b0'), 'name': 'Kingdom', 'phone': '0987456321', 'email': 'Kingdom@gmail.com.tw'}\n",
      "{'_id': ObjectId('5ff0239868d19e156f4517b2'), 'name': 'Thrump', 'phone': '0974125863', 'email': 'Thrump@gmail.com.tw'}\n",
      "{'_id': ObjectId('5ff0264168d19e156f4517b3'), 'name': 'Kingdom', 'phone': '0987456321', 'email': 'Kingdom@gmail.com.tw'}\n",
      "{'_id': ObjectId('5ff0264168d19e156f4517b4'), 'name': 'Philips', 'phone': '0912365478', 'email': 'Joe@gmail.com.tw'}\n",
      "{'_id': ObjectId('5ff0264168d19e156f4517b5'), 'name': 'Thrump', 'phone': '0974125863', 'email': 'Thrump@gmail.com.tw'}\n",
      "{'_id': ObjectId('5ff0264968d19e156f4517b6'), 'name': 'Kingdom', 'phone': '0987456321', 'email': 'Kingdom@gmail.com.tw'}\n",
      "{'_id': ObjectId('5ff0264968d19e156f4517b7'), 'name': 'Philips', 'phone': '0912365478', 'email': 'Joe@gmail.com.tw'}\n",
      "{'_id': ObjectId('5ff0264968d19e156f4517b8'), 'name': 'Thrump', 'phone': '0974125863', 'email': 'Thrump@gmail.com.tw'}\n"
     ]
    }
   ],
   "source": [
    "#find，找尋所有資料\n",
    "result = collection.find()\n",
    "\n",
    "for x in result:\n",
    "    print(x)"
   ]
  },
  {
   "cell_type": "code",
   "execution_count": 59,
   "metadata": {},
   "outputs": [
    {
     "name": "stdout",
     "output_type": "stream",
     "text": [
      "{'_id': ObjectId('5ff0239868d19e156f4517b2'), 'name': 'Thrump', 'phone': '0974125863', 'email': 'Thrump@gmail.com.tw'}\n",
      "{'_id': ObjectId('5ff0264168d19e156f4517b5'), 'name': 'Thrump', 'phone': '0974125863', 'email': 'Thrump@gmail.com.tw'}\n",
      "{'_id': ObjectId('5ff0264968d19e156f4517b8'), 'name': 'Thrump', 'phone': '0974125863', 'email': 'Thrump@gmail.com.tw'}\n"
     ]
    }
   ],
   "source": [
    "#find，找尋指定的所有資料\n",
    "result = collection.find({'name': 'Thrump'})\n",
    "\n",
    "for x in result:\n",
    "    print(x)"
   ]
  },
  {
   "cell_type": "code",
   "execution_count": 61,
   "metadata": {},
   "outputs": [
    {
     "name": "stdout",
     "output_type": "stream",
     "text": [
      "{'_id': ObjectId('5ff020be68d19e156f4517ad'), 'name': 'Green', 'phone': '0987456321', 'email': 'Kingdom@gmail.com.tw'}\n",
      "{'_id': ObjectId('5ff0239868d19e156f4517b0'), 'name': 'Kingdom', 'phone': '0987456321', 'email': 'Kingdom@gmail.com.tw'}\n",
      "{'_id': ObjectId('5ff0264168d19e156f4517b3'), 'name': 'Kingdom', 'phone': '0987456321', 'email': 'Kingdom@gmail.com.tw'}\n",
      "{'_id': ObjectId('5ff0264968d19e156f4517b6'), 'name': 'Kingdom', 'phone': '0987456321', 'email': 'Kingdom@gmail.com.tw'}\n",
      "{'_id': ObjectId('5ff0239868d19e156f4517b2'), 'name': 'Thrump', 'phone': '0974125863', 'email': 'Thrump@gmail.com.tw'}\n",
      "{'_id': ObjectId('5ff0264168d19e156f4517b5'), 'name': 'Thrump', 'phone': '0974125863', 'email': 'Thrump@gmail.com.tw'}\n",
      "{'_id': ObjectId('5ff0264968d19e156f4517b8'), 'name': 'Thrump', 'phone': '0974125863', 'email': 'Thrump@gmail.com.tw'}\n",
      "{'_id': ObjectId('5ff0264168d19e156f4517b4'), 'name': 'Philips', 'phone': '0912365478', 'email': 'Joe@gmail.com.tw'}\n",
      "{'_id': ObjectId('5ff0264968d19e156f4517b7'), 'name': 'Philips', 'phone': '0912365478', 'email': 'Joe@gmail.com.tw'}\n"
     ]
    }
   ],
   "source": [
    "#排序資料\n",
    "#sort，先用find()找出全部文檔，然後第一個參數指定要排序的目標，第二個指定排序規則-1降序，1升序。\n",
    "result = collection.find().sort('phone', -1)\n",
    "\n",
    "for x in result:\n",
    "    print(x)"
   ]
  },
  {
   "cell_type": "code",
   "execution_count": 62,
   "metadata": {},
   "outputs": [
    {
     "name": "stdout",
     "output_type": "stream",
     "text": [
      "{'_id': ObjectId('5ff020be68d19e156f4517ad'), 'name': 'Green', 'phone': '0987456321', 'email': 'Kingdom@gmail.com.tw'}\n",
      "{'_id': ObjectId('5ff0239868d19e156f4517b0'), 'name': 'Kingdom', 'phone': '0987456321', 'email': 'Kingdom@gmail.com.tw'}\n",
      "{'_id': ObjectId('5ff0239868d19e156f4517b2'), 'name': 'Thrump', 'phone': '0974125863', 'email': 'Thrump@gmail.com.tw'}\n",
      "{'_id': ObjectId('5ff0264168d19e156f4517b3'), 'name': 'Kingdom', 'phone': '0987456321', 'email': 'Kingdom@gmail.com.tw'}\n"
     ]
    }
   ],
   "source": [
    "#限制資料筆數\n",
    "#imit，先用find()找出全部文檔，然後第一個參數指定要找出的筆數。\n",
    "result = collection.find().limit(4)\n",
    "\n",
    "for x in result:\n",
    "    print(x)"
   ]
  },
  {
   "cell_type": "code",
   "execution_count": null,
   "metadata": {},
   "outputs": [],
   "source": []
  }
 ],
 "metadata": {
  "kernelspec": {
   "display_name": "Python 3",
   "language": "python",
   "name": "python3"
  },
  "language_info": {
   "codemirror_mode": {
    "name": "ipython",
    "version": 3
   },
   "file_extension": ".py",
   "mimetype": "text/x-python",
   "name": "python",
   "nbconvert_exporter": "python",
   "pygments_lexer": "ipython3",
   "version": "3.6.12"
  }
 },
 "nbformat": 4,
 "nbformat_minor": 2
}
